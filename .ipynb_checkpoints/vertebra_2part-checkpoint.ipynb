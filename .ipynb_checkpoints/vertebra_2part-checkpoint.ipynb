{
 "cells": [
  {
   "cell_type": "code",
   "execution_count": 213,
   "metadata": {},
   "outputs": [],
   "source": [
    "import sys\n",
    "import numpy as np\n",
    "import cv2 as cv\n",
    "import pandas as pd\n",
    "import matplotlib.pyplot as plt"
   ]
  },
  {
   "cell_type": "code",
   "execution_count": 214,
   "metadata": {},
   "outputs": [],
   "source": [
    "def viewImage(image, name_of_window):\n",
    "    cv.imshow(name_of_window, image)\n",
    "    cv.waitKey()\n",
    "    cv.destroyAllWindows()\n",
    "    \n",
    "    \n",
    "def viewContr(img, contours, name_of_window):\n",
    "    im = cv.drawContours(img.copy(), contours, -1, (255, 0, 0), 1, cv.LINE_AA, None, 1)\n",
    "    cv.imshow(name_of_window, im)"
   ]
  },
  {
   "cell_type": "code",
   "execution_count": 277,
   "metadata": {},
   "outputs": [],
   "source": [
    "img = cv.imread(\"N:/LAB_DISK/vertebra/Working_with_DICOM/after_ps_my/DICOM15.jpg\") "
   ]
  },
  {
   "cell_type": "code",
   "execution_count": 278,
   "metadata": {},
   "outputs": [],
   "source": [
    "# reverse color\n",
    "img = cv.bitwise_not(img)"
   ]
  },
  {
   "cell_type": "code",
   "execution_count": 279,
   "metadata": {},
   "outputs": [],
   "source": [
    "# параметры цветового фильтра\n",
    "hsv_min = np.array((0, 0, 0), np.uint8)\n",
    "hsv_max = np.array((220, 220, 220), np.uint8) \n",
    "\n",
    "hsv = cv.cvtColor(img, cv.COLOR_BGR2HSV )\n",
    "thresh = cv.inRange(hsv, hsv_min, hsv_max)"
   ]
  },
  {
   "cell_type": "code",
   "execution_count": 280,
   "metadata": {},
   "outputs": [],
   "source": [
    "# plt.imshow(thresh)\n",
    "# plt.show()\n",
    "\n",
    "\n",
    "cv.imshow(\"fdfd\", img)\n",
    "cv.imshow(\"fdfrgrgd\", thresh)\n",
    "\n",
    "cv.waitKey()\n",
    "cv.destroyAllWindows()"
   ]
  },
  {
   "cell_type": "code",
   "execution_count": 282,
   "metadata": {
    "code_folding": []
   },
   "outputs": [],
   "source": [
    "## блюр \n",
    "# blur = cv.bilateralFilter(thresh.copy(),10,75,75)\n",
    "median = cv.medianBlur(thresh.copy(),5)\n",
    "# blur = cv.GaussianBlur(thresh,(5,5),0)\n",
    "\n",
    "# cv.imshow(\"blur\", blur)\n",
    "cv.imshow(\"median\", median)\n",
    "cv.imshow(\"thresh\", thresh)\n",
    "\n",
    "cv.waitKey()\n",
    "cv.destroyAllWindows()\n",
    "\n",
    "thresh = median"
   ]
  },
  {
   "cell_type": "code",
   "execution_count": 283,
   "metadata": {},
   "outputs": [
    {
     "data": {
      "text/plain": [
       "27"
      ]
     },
     "execution_count": 283,
     "metadata": {},
     "output_type": "execute_result"
    }
   ],
   "source": [
    "contours, hierarchy = cv.findContours(thresh.copy(), cv.RETR_CCOMP, cv.CHAIN_APPROX_NONE)\n",
    "len(contours)"
   ]
  },
  {
   "cell_type": "code",
   "execution_count": 284,
   "metadata": {
    "code_folding": []
   },
   "outputs": [
    {
     "name": "stdout",
     "output_type": "stream",
     "text": [
      "2075.740740740741\n",
      "80.5\n"
     ]
    }
   ],
   "source": [
    "# вычисляем площади замкнутых контуров, \n",
    "# для отсеивания мусора\n",
    "\n",
    "areas = []\n",
    "\n",
    "for i in contours:\n",
    "    areas.append(cv.contourArea (i))\n",
    "\n",
    "areas_average = sum(areas) / len(areas)\n",
    "areas_average_median = np.median(areas)\n",
    "\n",
    "print(areas_average)\n",
    "print(areas_average_median)"
   ]
  },
  {
   "cell_type": "code",
   "execution_count": 285,
   "metadata": {
    "code_folding": [
     0
    ]
   },
   "outputs": [
    {
     "name": "stdout",
     "output_type": "stream",
     "text": [
      "3\n",
      "27\n"
     ]
    }
   ],
   "source": [
    "# убираем небольшие контура\n",
    "contours_new = []\n",
    "for i in contours:\n",
    "    if cv.contourArea(i) > areas_average :\n",
    "        contours_new.append(i)\n",
    "        \n",
    "print(len(contours_new))\n",
    "print(len(contours))"
   ]
  },
  {
   "cell_type": "code",
   "execution_count": 286,
   "metadata": {},
   "outputs": [],
   "source": [
    "# viewContr(thresh, contours_new, \"dkfj\")\n",
    "# viewContr(thresh, contours, \"all\")\n",
    "\n",
    "im = cv.drawContours(img.copy(), contours, -1, (255, 0, 0), 1, cv.LINE_AA, None, 1)\n",
    "im2 = cv.drawContours(img.copy(), contours_new, -1, (255, 0, 0), 1, cv.LINE_AA, None, 1)\n",
    "\n",
    "cv.imshow(\"dfjf\", im)\n",
    "cv.imshow(\"klfjgkf\", im2)\n",
    "\n",
    "cv.waitKey()\n",
    "cv.destroyAllWindows()"
   ]
  },
  {
   "cell_type": "code",
   "execution_count": 288,
   "metadata": {},
   "outputs": [
    {
     "name": "stdout",
     "output_type": "stream",
     "text": [
      "181\n",
      "374\n"
     ]
    }
   ],
   "source": [
    "#уменьшение количества точек и аппроксимация контуров\n",
    "contours_appr = contours_new.copy()\n",
    "for i in range(len(contours_new)):\n",
    "    epsilon = 0.0005*cv.arcLength(contours_new[i], True)\n",
    "    approx = cv.approxPolyDP(contours_new[i], epsilon, True)\n",
    "    contours_appr[i] = approx\n",
    "\n",
    "\n",
    "# смотрим на количество точек \n",
    "print(len(contours_appr[0]))\n",
    "print(len(contours_new[0]))"
   ]
  },
  {
   "cell_type": "code",
   "execution_count": 289,
   "metadata": {},
   "outputs": [],
   "source": [
    "# # смотрим на результат отдельной части\n",
    "# im = cv.drawContours(img.copy(), contours_new[0], -1, (255, 0, 0), 1)\n",
    "# cv.imshow(\"Contour\", im)\n",
    "# im2 = cv.drawContours(img.copy(), contours_appr[0], -1, (255, 0, 0), 1)\n",
    "# cv.imshow(\"Contour_approx\", im2)\n",
    "\n",
    "# cv.waitKey(0)\n",
    "# cv.destroyAllWindows()"
   ]
  },
  {
   "cell_type": "code",
   "execution_count": 290,
   "metadata": {},
   "outputs": [],
   "source": [
    "# результат апроксимации контуров\n",
    "im = cv.drawContours(img.copy(), contours_new, -1, (255, 0, 0), 1, cv.LINE_AA, None, 1)\n",
    "cv.imshow(\"Contour\", im)\n",
    "im2 = cv.drawContours(img.copy(), contours_appr, -1, (255, 0, 0), 1, cv.LINE_AA, None, 1)\n",
    "cv.imshow(\"Contour_approx\", im2)\n",
    "\n",
    "cv.waitKey(0)\n",
    "cv.destroyAllWindows()"
   ]
  },
  {
   "cell_type": "code",
   "execution_count": 291,
   "metadata": {},
   "outputs": [],
   "source": [
    "# дополнительное сглаживание контуров \n",
    "# методами кривой безье и \n",
    "# полиномиальной аппроксимации с использованием экспоненциального ядра"
   ]
  },
  {
   "cell_type": "code",
   "execution_count": 292,
   "metadata": {},
   "outputs": [],
   "source": []
  },
  {
   "cell_type": "code",
   "execution_count": null,
   "metadata": {},
   "outputs": [],
   "source": []
  }
 ],
 "metadata": {
  "kernelspec": {
   "display_name": "Python 3",
   "language": "python",
   "name": "python3"
  },
  "language_info": {
   "codemirror_mode": {
    "name": "ipython",
    "version": 3
   },
   "file_extension": ".py",
   "mimetype": "text/x-python",
   "name": "python",
   "nbconvert_exporter": "python",
   "pygments_lexer": "ipython3",
   "version": "3.8.3"
  }
 },
 "nbformat": 4,
 "nbformat_minor": 4
}
