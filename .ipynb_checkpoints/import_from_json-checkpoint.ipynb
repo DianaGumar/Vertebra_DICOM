{
 "cells": [
  {
   "cell_type": "code",
   "execution_count": 1,
   "metadata": {},
   "outputs": [],
   "source": [
    "import sys\n",
    "import numpy as np\n",
    "import cv2 as cv\n",
    "import pandas as pd\n",
    "import matplotlib.pyplot as plt\n",
    "from mpl_toolkits.mplot3d import Axes3D\n",
    "from matplotlib import cm\n",
    "from matplotlib import colors\n",
    "from matplotlib.colors import hsv_to_rgb\n",
    "from scipy.interpolate import splprep, splev\n",
    "import codecs, json \n",
    "import os\n",
    "import glob\n",
    "import shutil"
   ]
  },
  {
   "cell_type": "code",
   "execution_count": 2,
   "metadata": {},
   "outputs": [],
   "source": [
    "def read_contures_from_json(path):\n",
    "    contures = [] \n",
    "    for l_path in glob.glob(path + \"*.json\"):\n",
    "        with open(l_path) as json_file:\n",
    "            data = json.load(json_file)\n",
    "            contures.append(np.array(data, dtype=np.int32))\n",
    "    return contures"
   ]
  },
  {
   "cell_type": "code",
   "execution_count": 3,
   "metadata": {},
   "outputs": [],
   "source": [
    "contures = read_contures_from_json(\"N:/LAB_DISK/vertebra/Working_with_DICOM/after_ps_my/Newfolder/DICOM26/\")"
   ]
  },
  {
   "cell_type": "code",
   "execution_count": 4,
   "metadata": {},
   "outputs": [],
   "source": [
    "drawing = np.zeros([500, 500],np.uint8)\n",
    "\n",
    "im2 = cv.drawContours(drawing.copy(), contures, -1, (255, 0, 0), 1, cv.LINE_AA, None, 1)\n",
    "cv.imshow(\"Contour_approx\", im2)\n",
    "\n",
    "cv.waitKey(0)\n",
    "cv.destroyAllWindows()"
   ]
  },
  {
   "cell_type": "code",
   "execution_count": null,
   "metadata": {},
   "outputs": [],
   "source": []
  }
 ],
 "metadata": {
  "kernelspec": {
   "display_name": "Python 3",
   "language": "python",
   "name": "python3"
  },
  "language_info": {
   "codemirror_mode": {
    "name": "ipython",
    "version": 3
   },
   "file_extension": ".py",
   "mimetype": "text/x-python",
   "name": "python",
   "nbconvert_exporter": "python",
   "pygments_lexer": "ipython3",
   "version": "3.8.3"
  }
 },
 "nbformat": 4,
 "nbformat_minor": 4
}
