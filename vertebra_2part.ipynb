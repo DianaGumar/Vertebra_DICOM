{
 "cells": [
  {
   "cell_type": "code",
   "execution_count": 1,
   "metadata": {},
   "outputs": [],
   "source": [
    "import sys\n",
    "import numpy as np\n",
    "import cv2 as cv\n",
    "import pandas as pd"
   ]
  },
  {
   "cell_type": "code",
   "execution_count": 5,
   "metadata": {},
   "outputs": [],
   "source": [
    "def viewImage(image, name_of_window):\n",
    "    cv.imshow(name_of_window, image)\n",
    "    cv.waitKey()\n",
    "    cv.destroyAllWindows()\n",
    "    \n",
    "    \n",
    "def viewContr(img, contours, name_of_window):\n",
    "    im = cv.drawContours(img.copy(), contours, -1, (255, 0, 0), 1, cv.LINE_AA, None, 1)\n",
    "    cv.imshow(name_of_window, im)"
   ]
  },
  {
   "cell_type": "code",
   "execution_count": 3,
   "metadata": {},
   "outputs": [],
   "source": [
    "img = cv.imread(\"N:/LAB_DISK/vertebra/Working_with_DICOM/after_ps_my/DICOM15.jpg\")"
   ]
  },
  {
   "cell_type": "code",
   "execution_count": 7,
   "metadata": {},
   "outputs": [],
   "source": [
    "# reverse color\n",
    "img = cv.bitwise_not(img)\n",
    "\n",
    "# параметры цветового фильтра\n",
    "hsv_min = np.array((0, 0, 0), np.uint8)\n",
    "hsv_max = np.array((220, 220, 220), np.uint8)\n",
    "\n",
    "hsv = cv.cvtColor(img, cv.COLOR_BGR2HSV )\n",
    "thresh = cv.inRange(hsv, hsv_min, hsv_max )"
   ]
  },
  {
   "cell_type": "code",
   "execution_count": 9,
   "metadata": {},
   "outputs": [],
   "source": [
    "viewImage(img, \"name_of_window\")"
   ]
  },
  {
   "cell_type": "code",
   "execution_count": 10,
   "metadata": {},
   "outputs": [],
   "source": [
    "viewImage(thresh, \"name_of_window\")"
   ]
  },
  {
   "cell_type": "code",
   "execution_count": 12,
   "metadata": {},
   "outputs": [],
   "source": [
    "thresh = cv.inRange(hsv, hsv_min, hsv_max )\n"
   ]
  },
  {
   "cell_type": "code",
   "execution_count": 13,
   "metadata": {},
   "outputs": [
    {
     "data": {
      "text/plain": [
       "3"
      ]
     },
     "execution_count": 13,
     "metadata": {},
     "output_type": "execute_result"
    }
   ],
   "source": [
    "contours, hierarchy = cv.findContours(thresh.copy(), cv.RETR_CCOMP, cv.CHAIN_APPROX_NONE)\n",
    "\n",
    "len(contours)"
   ]
  },
  {
   "cell_type": "code",
   "execution_count": 14,
   "metadata": {},
   "outputs": [
    {
     "name": "stdout",
     "output_type": "stream",
     "text": [
      "87276.0\n",
      "576.0\n"
     ]
    }
   ],
   "source": [
    "areas = []\n",
    "\n",
    "for i in contours:\n",
    "    areas.append(cv.contourArea (i))\n",
    "\n",
    "areas_average = sum(areas) / len(areas)\n",
    "areas_average_median = np.median(areas)\n",
    "\n",
    "print(areas_average)\n",
    "print(areas_average_median)"
   ]
  },
  {
   "cell_type": "code",
   "execution_count": 15,
   "metadata": {},
   "outputs": [
    {
     "name": "stdout",
     "output_type": "stream",
     "text": [
      "1\n",
      "3\n"
     ]
    }
   ],
   "source": [
    "contours_new = []\n",
    "for i in contours:\n",
    "    if cv.contourArea(i) > areas_average :\n",
    "        contours_new.append(i)\n",
    "        \n",
    "print(len(contours_new))\n",
    "print(len(contours))"
   ]
  },
  {
   "cell_type": "code",
   "execution_count": 16,
   "metadata": {},
   "outputs": [],
   "source": [
    "cv.imshow(\"fdfd\", img)\n",
    "cv.imshow(\"fdfrgrgd\", thresh)\n",
    "\n",
    "cv.waitKey()\n",
    "cv.destroyAllWindows()"
   ]
  },
  {
   "cell_type": "code",
   "execution_count": 17,
   "metadata": {},
   "outputs": [],
   "source": [
    "viewContr(img, contours_new, \"dkfj\")\n",
    "viewContr(img, contours, \"all\")\n",
    "\n",
    "cv.waitKey()\n",
    "cv.destroyAllWindows()"
   ]
  }
 ],
 "metadata": {
  "kernelspec": {
   "display_name": "Python 3",
   "language": "python",
   "name": "python3"
  },
  "language_info": {
   "codemirror_mode": {
    "name": "ipython",
    "version": 3
   },
   "file_extension": ".py",
   "mimetype": "text/x-python",
   "name": "python",
   "nbconvert_exporter": "python",
   "pygments_lexer": "ipython3",
   "version": "3.8.3"
  }
 },
 "nbformat": 4,
 "nbformat_minor": 4
}
