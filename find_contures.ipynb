{
 "cells": [
  {
   "cell_type": "code",
   "execution_count": 3,
   "metadata": {},
   "outputs": [],
   "source": [
    "import sys\n",
    "import numpy as np\n",
    "import cv2 as cv\n",
    "import pandas as pd\n",
    "import matplotlib.pyplot as plt\n",
    "from mpl_toolkits.mplot3d import Axes3D\n",
    "from matplotlib import cm\n",
    "from matplotlib import colors\n",
    "from matplotlib.colors import hsv_to_rgb\n",
    "from scipy.interpolate import splprep, splev\n",
    "import codecs, json \n",
    "import os\n",
    "import glob\n",
    "import shutil"
   ]
  },
  {
   "cell_type": "code",
   "execution_count": 2,
   "metadata": {},
   "outputs": [],
   "source": [
    "# общая функция\n",
    "# забрасываем маску, получаем контура\n",
    "\n",
    "def GetCounters(im_thresh):\n",
    "    contours, hierarchy = cv.findContours(im_thresh.copy(), cv.RETR_CCOMP, cv.CHAIN_APPROX_NONE)\n",
    "    # вычисляем площади замкнутых контуров, \n",
    "    # для отсеивания мусора\n",
    "    areas = []\n",
    "    for i in contours:\n",
    "        areas.append(cv.contourArea (i))\n",
    "    areas_average = sum(areas) / len(areas)\n",
    "    # убираем небольшие контура\n",
    "    contours_new = []\n",
    "    for i in contours:\n",
    "        if cv.contourArea(i) > areas_average :\n",
    "            contours_new.append(i)   \n",
    "    #уменьшение количества точек и аппроксимация контуров\n",
    "    contours_appr = contours_new.copy()\n",
    "    for i in range(len(contours_new)):\n",
    "        epsilon = 0.0007*cv.arcLength(contours_new[i], True)\n",
    "        approx = cv.approxPolyDP(contours_new[i], epsilon, True)\n",
    "        contours_appr[i] = approx\n",
    "    \n",
    "    return contours_appr\n",
    "\n",
    "def Blur(img):\n",
    "    median = cv.medianBlur(img.copy(),7)\n",
    "    b = 5\n",
    "    blur = cv.GaussianBlur(median,(b,b),0)\n",
    "    return blur\n",
    "\n",
    "    \n",
    "def SaveImgConrures(img, contures, path):\n",
    "    cv.imwrite(path + \"img.jpg\", img)\n",
    "    for i in range(len(contures)):\n",
    "        b = contures[i].tolist()\n",
    "        file_path = path + str(i) + \".json\"\n",
    "        json.dump(b, codecs.open(file_path, 'w', encoding='utf-8'), separators=(',', ':'), sort_keys=True, indent=4)\n",
    "          \n",
    "def FindDicomCounter(path_to_img, img_name):\n",
    "    img = cv.imread(path_to_img + img_name) \n",
    "    img = cv.bitwise_not(img)\n",
    "    hsv = cv.cvtColor(img, cv.COLOR_BGR2HSV)\n",
    "#     hsv[:,:,2] = [[max(pixel - 25, 0) if pixel < 210 else min(pixel + 25, 255) for pixel in row] for row in hsv[:,:,2]]\n",
    "    hsv_min = np.array((0, 0, 0), np.uint8)\n",
    "    hsv_max = np.array((0, 0.02, 215), np.uint8)\n",
    "    hsv = Blur(hsv)\n",
    "    thresh = cv.inRange(hsv, hsv_min, hsv_max)\n",
    "    counters = GetCounters(thresh)\n",
    "    img_contures = cv.drawContours(img.copy(), counters, -1, (255, 0, 0), 1, cv.LINE_AA, None, 1)\n",
    "    SaveImgConrures(img_contures, counters, path_to_img)\n",
    "    \n",
    "\n",
    "def find_counters_in_folder(path_to_folder):\n",
    "    for img in glob.glob(path_to_folder + \"*/.jpg\"):\n",
    "        #n= cv2.imread(img)\n",
    "        print(img)\n",
    "        new_path = os.path.splitext(img)[0] + \"/\"\n",
    "        img_name = os.path.basename(img) \n",
    "        os.mkdir(new_path)\n",
    "        shutil.move(img, new_path + img_name)\n",
    "        FindDicomCounter(new_path, img_name)"
   ]
  },
  {
   "cell_type": "code",
   "execution_count": 4,
   "metadata": {},
   "outputs": [],
   "source": [
    "if __name__ == \"__main__\":\n",
    "    find_counters_in_folder(sys.argv[1])\n"
   ]
  },
  {
   "cell_type": "code",
   "execution_count": null,
   "metadata": {},
   "outputs": [],
   "source": []
  }
 ],
 "metadata": {
  "kernelspec": {
   "display_name": "Python 3",
   "language": "python",
   "name": "python3"
  },
  "language_info": {
   "codemirror_mode": {
    "name": "ipython",
    "version": 3
   },
   "file_extension": ".py",
   "mimetype": "text/x-python",
   "name": "python",
   "nbconvert_exporter": "python",
   "pygments_lexer": "ipython3",
   "version": "3.8.3"
  }
 },
 "nbformat": 4,
 "nbformat_minor": 4
}
